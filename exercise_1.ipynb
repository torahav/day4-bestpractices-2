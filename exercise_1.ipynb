{
 "cells": [
  {
   "cell_type": "code",
   "execution_count": 2,
   "id": "813ae296",
   "metadata": {},
   "outputs": [
    {
     "name": "stdout",
     "output_type": "stream",
     "text": [
      "528 µs ± 1.13 µs per loop (mean ± std. dev. of 7 runs, 1,000 loops each)\n"
     ]
    }
   ],
   "source": [
    "# Exercise 1a\n",
    "import cy_primes \n",
    "import primes\n",
    "import numpy\n",
    "\n",
    "%timeit primes.primes(2000)\n",
    "\n",
    "%timeit cy_primes.primes(2000)"
   ]
  },
  {
   "cell_type": "code",
   "execution_count": 17,
   "id": "25e8b9c4",
   "metadata": {},
   "outputs": [
    {
     "name": "stdout",
     "output_type": "stream",
     "text": [
      "Python:  2.279245138168335\n",
      "Scipy:  0.03677701950073242\n"
     ]
    }
   ],
   "source": [
    "# Exercise 1b\n",
    "import rbf\n",
    "\n",
    "%run rbf.py\n",
    "\n",
    "# SciPy implementation is ca 100 times faster"
   ]
  },
  {
   "cell_type": "code",
   "execution_count": 19,
   "id": "57535891",
   "metadata": {},
   "outputs": [
    {
     "name": "stdout",
     "output_type": "stream",
     "text": [
      "Python:  2.280708074569702\n",
      "Scipy:  0.033660173416137695\n",
      "Cython:  0.0516049861907959\n"
     ]
    }
   ],
   "source": [
    "# 1d tried to make datatypes C compatible \n",
    "import rbf\n",
    "%run rbf.py\n",
    "\n",
    "# these changes made the performaance almost as good as for SciPy"
   ]
  },
  {
   "cell_type": "code",
   "execution_count": null,
   "id": "725f247a",
   "metadata": {},
   "outputs": [],
   "source": []
  }
 ],
 "metadata": {
  "kernelspec": {
   "display_name": "Python 3 (ipykernel)",
   "language": "python",
   "name": "python3"
  },
  "language_info": {
   "codemirror_mode": {
    "name": "ipython",
    "version": 3
   },
   "file_extension": ".py",
   "mimetype": "text/x-python",
   "name": "python",
   "nbconvert_exporter": "python",
   "pygments_lexer": "ipython3",
   "version": "3.9.7"
  }
 },
 "nbformat": 4,
 "nbformat_minor": 5
}
